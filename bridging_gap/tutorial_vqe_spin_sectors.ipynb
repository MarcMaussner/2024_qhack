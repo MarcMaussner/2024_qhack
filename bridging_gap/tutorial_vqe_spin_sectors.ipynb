{
 "cells": [
  {
   "cell_type": "markdown",
   "id": "d3e7afbb",
   "metadata": {},
   "source": [
    "# Code from tutorial vqe-spin-sectors"
   ]
  },
  {
   "cell_type": "markdown",
   "id": "ea4f044c",
   "metadata": {},
   "source": [
    "##  Build hamiltonian (H2)"
   ]
  },
  {
   "cell_type": "code",
   "execution_count": 2,
   "id": "497d8355",
   "metadata": {},
   "outputs": [],
   "source": [
    "# IMPORTS\n",
    "from pennylane import numpy as np\n",
    "import pennylane as qml"
   ]
  },
  {
   "cell_type": "code",
   "execution_count": 3,
   "id": "723c0fe0",
   "metadata": {},
   "outputs": [],
   "source": [
    "symbols = [\"H\", \"H\"]\n",
    "coordinates = np.array([0.0, 0.0, -0.6614, 0.0, 0.0, 0.6614])"
   ]
  },
  {
   "cell_type": "code",
   "execution_count": 4,
   "id": "a068f5be",
   "metadata": {},
   "outputs": [
    {
     "name": "stdout",
     "output_type": "stream",
     "text": [
      "Number of qubits =  4\n",
      "The Hamiltonian is    (-0.24274501260941428) [Z3]\n",
      "+ (-0.24274501260941422) [Z2]\n",
      "+ (-0.04207255194743911) [I0]\n",
      "+ (0.17771358229091763) [Z0]\n",
      "+ (0.17771358229091766) [Z1]\n",
      "+ (0.12293330449299356) [Z0 Z2]\n",
      "+ (0.12293330449299356) [Z1 Z3]\n",
      "+ (0.1676833885560135) [Z0 Z3]\n",
      "+ (0.1676833885560135) [Z1 Z2]\n",
      "+ (0.17059759276836797) [Z0 Z1]\n",
      "+ (0.1762766139418181) [Z2 Z3]\n",
      "+ (-0.04475008406301993) [Y0 Y1 X2 X3]\n",
      "+ (-0.04475008406301993) [X0 X1 Y2 Y3]\n",
      "+ (0.04475008406301993) [Y0 X1 X2 Y3]\n",
      "+ (0.04475008406301993) [X0 Y1 Y2 X3]\n"
     ]
    }
   ],
   "source": [
    "H, qubits = qml.qchem.molecular_hamiltonian(symbols, coordinates)\n",
    "\n",
    "print(\"Number of qubits = \", qubits)\n",
    "print(\"The Hamiltonian is \", H)"
   ]
  },
  {
   "cell_type": "markdown",
   "id": "2c13c0d4",
   "metadata": {},
   "source": [
    "## Build S2"
   ]
  },
  {
   "cell_type": "code",
   "execution_count": 5,
   "id": "48c2bcf3",
   "metadata": {},
   "outputs": [
    {
     "name": "stdout",
     "output_type": "stream",
     "text": [
      "  (0.375) [Z0]\n",
      "+ (0.375) [Z1]\n",
      "+ (0.375) [Z2]\n",
      "+ (0.375) [Z3]\n",
      "+ (0.75) [I0]\n",
      "+ (-0.375) [Z0 Z1]\n",
      "+ (-0.375) [Z2 Z3]\n",
      "+ (-0.125) [Z0 Z3]\n",
      "+ (-0.125) [Z1 Z2]\n",
      "+ (0.125) [Z0 Z2]\n",
      "+ (0.125) [Z1 Z3]\n",
      "+ (-0.125) [Y0 X1 X2 Y3]\n",
      "+ (-0.125) [X0 Y1 Y2 X3]\n",
      "+ (0.125) [Y0 X1 Y2 X3]\n",
      "+ (0.125) [Y0 Y1 X2 X3]\n",
      "+ (0.125) [Y0 Y1 Y2 Y3]\n",
      "+ (0.125) [X0 X1 X2 X3]\n",
      "+ (0.125) [X0 X1 Y2 Y3]\n",
      "+ (0.125) [X0 Y1 X2 Y3]\n"
     ]
    }
   ],
   "source": [
    "electrons = 2\n",
    "S2 = qml.qchem.spin2(electrons, qubits)\n",
    "print(S2)"
   ]
  },
  {
   "cell_type": "markdown",
   "id": "1f08d4c4",
   "metadata": {},
   "source": [
    "##  Get initial HF-state"
   ]
  },
  {
   "cell_type": "code",
   "execution_count": 6,
   "id": "09cfe567",
   "metadata": {},
   "outputs": [
    {
     "name": "stdout",
     "output_type": "stream",
     "text": [
      "[1 1 0 0]\n"
     ]
    }
   ],
   "source": [
    "hf = qml.qchem.hf_state(electrons, qubits)\n",
    "print(hf)"
   ]
  },
  {
   "cell_type": "code",
   "execution_count": 7,
   "id": "cb65e728",
   "metadata": {},
   "outputs": [
    {
     "name": "stdout",
     "output_type": "stream",
     "text": [
      "[[0, 2], [1, 3]]\n",
      "[[0, 1, 2, 3]]\n"
     ]
    }
   ],
   "source": [
    "singles, doubles = qml.qchem.excitations(electrons, qubits, delta_sz=0)\n",
    "print(singles)\n",
    "print(doubles)"
   ]
  },
  {
   "cell_type": "code",
   "execution_count": 8,
   "id": "df418b28",
   "metadata": {},
   "outputs": [],
   "source": [
    "def circuit(params, wires):\n",
    "    qml.AllSinglesDoubles(params, wires, hf, singles, doubles)"
   ]
  },
  {
   "cell_type": "code",
   "execution_count": 9,
   "id": "bbe80c38",
   "metadata": {},
   "outputs": [],
   "source": [
    "#dev = qml.device(\"lightning.qubit\", wires=qubits)\n",
    "dev = qml.device(\"default.qubit\", wires=qubits)"
   ]
  },
  {
   "cell_type": "code",
   "execution_count": 10,
   "id": "4c831d54",
   "metadata": {},
   "outputs": [],
   "source": [
    "@qml.qnode(dev, interface=\"autograd\")\n",
    "def cost_fn(params):\n",
    "    circuit(params, wires=range(qubits))\n",
    "    return qml.expval(H)"
   ]
  },
  {
   "cell_type": "code",
   "execution_count": 11,
   "id": "f6ca6081",
   "metadata": {},
   "outputs": [],
   "source": [
    "@qml.qnode(dev, interface=\"autograd\")\n",
    "def S2_exp_value(params):\n",
    "    circuit(params, wires=range(qubits))\n",
    "    return qml.expval(S2)"
   ]
  },
  {
   "cell_type": "code",
   "execution_count": 12,
   "id": "a553f0d1",
   "metadata": {},
   "outputs": [],
   "source": [
    "def total_spin(params):\n",
    "    return -0.5 + np.sqrt(1 / 4 + S2_exp_value(params))"
   ]
  },
  {
   "cell_type": "markdown",
   "id": "1457806d",
   "metadata": {},
   "source": [
    "## Calculate ground-state (S0)"
   ]
  },
  {
   "cell_type": "code",
   "execution_count": 13,
   "id": "652144fc",
   "metadata": {},
   "outputs": [
    {
     "name": "stdout",
     "output_type": "stream",
     "text": [
      "[5.54193389 1.25713095 3.07479606]\n"
     ]
    }
   ],
   "source": [
    "opt = qml.GradientDescentOptimizer(stepsize=0.8)\n",
    "np.random.seed(0)  # for reproducibility\n",
    "theta = np.random.normal(0, np.pi, len(singles) + len(doubles), requires_grad=True)\n",
    "print(theta)"
   ]
  },
  {
   "cell_type": "code",
   "execution_count": 14,
   "id": "db063fa2",
   "metadata": {},
   "outputs": [
    {
     "name": "stdout",
     "output_type": "stream",
     "text": [
      "Step = 0, Energy = -0.09929557 Ha, S = 0.1014\n",
      "Step = 4, Energy = -0.87153518 Ha, S = 0.0982\n",
      "Step = 8, Energy = -1.11692841 Ha, S = 0.0087\n",
      "Step = 12, Energy = -1.13529755 Ha, S = 0.0004\n",
      "Step = 16, Energy = -1.13614888 Ha, S = 0.0000\n",
      "Step = 20, Energy = -1.13618734 Ha, S = 0.0000\n",
      "\n",
      "Final value of the ground-state energy = -1.13618832 Ha\n",
      "\n",
      "Optimal value of the circuit parameters = [3.14350662 3.14087516 2.93185886]\n"
     ]
    }
   ],
   "source": [
    "max_iterations = 100\n",
    "conv_tol = 1e-06\n",
    "\n",
    "for n in range(max_iterations):\n",
    "\n",
    "    theta, prev_energy = opt.step_and_cost(cost_fn, theta)\n",
    "\n",
    "    energy = cost_fn(theta)\n",
    "    spin = total_spin(theta)\n",
    "\n",
    "    conv = np.abs(energy - prev_energy)\n",
    "\n",
    "    if n % 4 == 0:\n",
    "        print(f\"Step = {n}, Energy = {energy:.8f} Ha, S = {spin:.4f}\")\n",
    "\n",
    "    if conv <= conv_tol:\n",
    "        break\n",
    "\n",
    "print(\"\\n\" f\"Final value of the ground-state energy = {energy:.8f} Ha\")\n",
    "print(\"\\n\" f\"Optimal value of the circuit parameters = {theta}\")"
   ]
  },
  {
   "cell_type": "markdown",
   "id": "9d24eb45",
   "metadata": {},
   "source": [
    "## Calculate single excited state (S1)"
   ]
  },
  {
   "cell_type": "code",
   "execution_count": 15,
   "id": "ae851716",
   "metadata": {},
   "outputs": [
    {
     "name": "stdout",
     "output_type": "stream",
     "text": [
      "[[1, 2]]\n",
      "[]\n"
     ]
    }
   ],
   "source": [
    "singles, doubles = qml.qchem.excitations(electrons, qubits, delta_sz=1)\n",
    "print(singles)\n",
    "print(doubles)"
   ]
  },
  {
   "cell_type": "code",
   "execution_count": 16,
   "id": "d0ec0d77",
   "metadata": {},
   "outputs": [],
   "source": [
    "def circuit(params, wires):\n",
    "    qml.AllSinglesDoubles(params, wires, np.flip(hf), singles, doubles)"
   ]
  },
  {
   "cell_type": "code",
   "execution_count": 17,
   "id": "f2bf54c6",
   "metadata": {},
   "outputs": [],
   "source": [
    "@qml.qnode(dev, interface=\"autograd\")\n",
    "def cost_fn(params):\n",
    "    circuit(params, wires=range(qubits))\n",
    "    return qml.expval(H)\n",
    "\n",
    "\n",
    "@qml.qnode(dev, interface=\"autograd\")\n",
    "def S2_exp_value(params):\n",
    "    circuit(params, wires=range(qubits))\n",
    "    return qml.expval(S2)"
   ]
  },
  {
   "cell_type": "code",
   "execution_count": 18,
   "id": "960358a9",
   "metadata": {},
   "outputs": [
    {
     "name": "stdout",
     "output_type": "stream",
     "text": [
      "Step = 0, Energy = 0.31463319 Ha, S = 0.3539\n",
      "Step = 4, Energy = -0.38517129 Ha, S = 0.9391\n",
      "Step = 8, Energy = -0.47698618 Ha, S = 0.9991\n",
      "Step = 12, Energy = -0.47842743 Ha, S = 1.0000\n",
      "Step = 16, Energy = -0.47844667 Ha, S = 1.0000\n",
      "\n",
      "Final value of the energy = -0.47844667 Ha\n",
      "\n",
      "Optimal value of the circuit parameters = [3.14259046]\n"
     ]
    }
   ],
   "source": [
    "np.random.seed(0)\n",
    "theta = np.random.normal(0, np.pi, len(singles) + len(doubles), requires_grad=True)\n",
    "\n",
    "max_iterations = 100\n",
    "conv_tol = 1e-06\n",
    "\n",
    "for n in range(max_iterations):\n",
    "\n",
    "    theta, prev_energy = opt.step_and_cost(cost_fn, theta)\n",
    "\n",
    "    energy = cost_fn(theta)\n",
    "    spin = total_spin(theta)\n",
    "\n",
    "    conv = np.abs(energy - prev_energy)\n",
    "\n",
    "    if n % 4 == 0:\n",
    "        print(f\"Step = {n}, Energy = {energy:.8f} Ha, S = {spin:.4f}\")\n",
    "\n",
    "    if conv <= conv_tol:\n",
    "        break\n",
    "\n",
    "print(\"\\n\" f\"Final value of the energy = {energy:.8f} Ha\")\n",
    "print(\"\\n\" f\"Optimal value of the circuit parameters = {theta}\")"
   ]
  },
  {
   "cell_type": "markdown",
   "id": "baa9f0f2",
   "metadata": {},
   "source": [
    "## Plausibilization"
   ]
  },
  {
   "cell_type": "markdown",
   "id": "7e85a65b",
   "metadata": {},
   "source": [
    "According to: https://socratic.org/questions/how-can-i-calculate-the-excited-state-energy-level\n",
    "We can calculate the excited state energy for hydrogen-like molecules (H, He+, Li+,..) by:\n",
    "E_n = -Z^2*(13.61 eV)/n^ 2, with Z being the atomic number and n being the quantum level."
   ]
  },
  {
   "cell_type": "markdown",
   "id": "a21e6f72",
   "metadata": {},
   "source": [
    "Ground state: −54.44 eV = -2.0006315033 Ha\n",
    "First Excited state: −13.61 eV = -0.5001578758 Ha\n",
    "-> spectral_gap = -40.83 = -1.5004736275 Ha"
   ]
  },
  {
   "cell_type": "code",
   "execution_count": null,
   "id": "e098ba4c",
   "metadata": {},
   "outputs": [],
   "source": []
  }
 ],
 "metadata": {
  "kernelspec": {
   "display_name": "Python 3 (ipykernel)",
   "language": "python",
   "name": "python3"
  },
  "language_info": {
   "codemirror_mode": {
    "name": "ipython",
    "version": 3
   },
   "file_extension": ".py",
   "mimetype": "text/x-python",
   "name": "python",
   "nbconvert_exporter": "python",
   "pygments_lexer": "ipython3",
   "version": "3.10.12"
  }
 },
 "nbformat": 4,
 "nbformat_minor": 5
}
