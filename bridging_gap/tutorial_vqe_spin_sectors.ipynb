{
 "cells": [
  {
   "cell_type": "markdown",
   "id": "26ff16ce",
   "metadata": {},
   "source": [
    "# Code from tutorial vqe-spin-sectors"
   ]
  },
  {
   "cell_type": "markdown",
   "id": "62f70721",
   "metadata": {},
   "source": [
    "##  Build hamiltonian (H2)"
   ]
  },
  {
   "cell_type": "code",
   "execution_count": 2,
   "id": "6bb678a3",
   "metadata": {},
   "outputs": [],
   "source": [
    "# IMPORTS\n",
    "from pennylane import numpy as np\n",
    "import pennylane as qml"
   ]
  },
  {
   "cell_type": "code",
   "execution_count": 3,
   "id": "c6bb8875",
   "metadata": {},
   "outputs": [],
   "source": [
    "symbols = [\"H\", \"H\"]\n",
    "coordinates = np.array([0.0, 0.0, -0.6614, 0.0, 0.0, 0.6614])"
   ]
  },
  {
   "cell_type": "code",
   "execution_count": 4,
   "id": "b2ae11b1",
   "metadata": {},
   "outputs": [
    {
     "name": "stdout",
     "output_type": "stream",
     "text": [
      "Number of qubits =  4\n",
      "The Hamiltonian is    (-0.24274501260941428) [Z3]\n",
      "+ (-0.24274501260941422) [Z2]\n",
      "+ (-0.04207255194743911) [I0]\n",
      "+ (0.17771358229091763) [Z0]\n",
      "+ (0.17771358229091766) [Z1]\n",
      "+ (0.12293330449299356) [Z0 Z2]\n",
      "+ (0.12293330449299356) [Z1 Z3]\n",
      "+ (0.1676833885560135) [Z0 Z3]\n",
      "+ (0.1676833885560135) [Z1 Z2]\n",
      "+ (0.17059759276836797) [Z0 Z1]\n",
      "+ (0.1762766139418181) [Z2 Z3]\n",
      "+ (-0.04475008406301993) [Y0 Y1 X2 X3]\n",
      "+ (-0.04475008406301993) [X0 X1 Y2 Y3]\n",
      "+ (0.04475008406301993) [Y0 X1 X2 Y3]\n",
      "+ (0.04475008406301993) [X0 Y1 Y2 X3]\n"
     ]
    }
   ],
   "source": [
    "H, qubits = qml.qchem.molecular_hamiltonian(symbols, coordinates)\n",
    "\n",
    "print(\"Number of qubits = \", qubits)\n",
    "print(\"The Hamiltonian is \", H)"
   ]
  },
  {
   "cell_type": "markdown",
   "id": "acc0278a",
   "metadata": {},
   "source": [
    "## Build S2"
   ]
  },
  {
   "cell_type": "code",
   "execution_count": 5,
   "id": "4bf9aa94",
   "metadata": {},
   "outputs": [
    {
     "name": "stdout",
     "output_type": "stream",
     "text": [
      "  (0.375) [Z0]\n",
      "+ (0.375) [Z1]\n",
      "+ (0.375) [Z2]\n",
      "+ (0.375) [Z3]\n",
      "+ (0.75) [I0]\n",
      "+ (-0.375) [Z0 Z1]\n",
      "+ (-0.375) [Z2 Z3]\n",
      "+ (-0.125) [Z0 Z3]\n",
      "+ (-0.125) [Z1 Z2]\n",
      "+ (0.125) [Z0 Z2]\n",
      "+ (0.125) [Z1 Z3]\n",
      "+ (-0.125) [Y0 X1 X2 Y3]\n",
      "+ (-0.125) [X0 Y1 Y2 X3]\n",
      "+ (0.125) [Y0 X1 Y2 X3]\n",
      "+ (0.125) [Y0 Y1 X2 X3]\n",
      "+ (0.125) [Y0 Y1 Y2 Y3]\n",
      "+ (0.125) [X0 X1 X2 X3]\n",
      "+ (0.125) [X0 X1 Y2 Y3]\n",
      "+ (0.125) [X0 Y1 X2 Y3]\n"
     ]
    }
   ],
   "source": [
    "electrons = 2\n",
    "S2 = qml.qchem.spin2(electrons, qubits)\n",
    "print(S2)"
   ]
  },
  {
   "cell_type": "markdown",
   "id": "ba786b2e",
   "metadata": {},
   "source": [
    "##  Get initial HF-state"
   ]
  },
  {
   "cell_type": "code",
   "execution_count": 6,
   "id": "ad8f250f",
   "metadata": {},
   "outputs": [
    {
     "name": "stdout",
     "output_type": "stream",
     "text": [
      "[1 1 0 0]\n"
     ]
    }
   ],
   "source": [
    "hf = qml.qchem.hf_state(electrons, qubits)\n",
    "print(hf)"
   ]
  },
  {
   "cell_type": "code",
   "execution_count": 7,
   "id": "6926c64c",
   "metadata": {},
   "outputs": [
    {
     "name": "stdout",
     "output_type": "stream",
     "text": [
      "[[0, 2], [1, 3]]\n",
      "[[0, 1, 2, 3]]\n"
     ]
    }
   ],
   "source": [
    "singles, doubles = qml.qchem.excitations(electrons, qubits, delta_sz=0)\n",
    "print(singles)\n",
    "print(doubles)"
   ]
  },
  {
   "cell_type": "code",
   "execution_count": 8,
   "id": "3e8b9096",
   "metadata": {},
   "outputs": [],
   "source": [
    "def circuit(params, wires):\n",
    "    qml.AllSinglesDoubles(params, wires, hf, singles, doubles)"
   ]
  },
  {
   "cell_type": "code",
   "execution_count": 9,
   "id": "3614a0da",
   "metadata": {},
   "outputs": [],
   "source": [
    "#dev = qml.device(\"lightning.qubit\", wires=qubits)\n",
    "dev = qml.device(\"default.qubit\", wires=qubits)"
   ]
  },
  {
   "cell_type": "code",
   "execution_count": 10,
   "id": "5ba51942",
   "metadata": {},
   "outputs": [],
   "source": [
    "@qml.qnode(dev, interface=\"autograd\")\n",
    "def cost_fn(params):\n",
    "    circuit(params, wires=range(qubits))\n",
    "    return qml.expval(H)"
   ]
  },
  {
   "cell_type": "code",
   "execution_count": 11,
   "id": "2ac844ef",
   "metadata": {},
   "outputs": [],
   "source": [
    "@qml.qnode(dev, interface=\"autograd\")\n",
    "def S2_exp_value(params):\n",
    "    circuit(params, wires=range(qubits))\n",
    "    return qml.expval(S2)"
   ]
  },
  {
   "cell_type": "code",
   "execution_count": 12,
   "id": "ddb9b8aa",
   "metadata": {},
   "outputs": [],
   "source": [
    "def total_spin(params):\n",
    "    return -0.5 + np.sqrt(1 / 4 + S2_exp_value(params))"
   ]
  },
  {
   "cell_type": "markdown",
   "id": "b5666f6e",
   "metadata": {},
   "source": [
    "## Calculate ground-state (S0)"
   ]
  },
  {
   "cell_type": "code",
   "execution_count": 13,
   "id": "aa6f3e7b",
   "metadata": {},
   "outputs": [
    {
     "name": "stdout",
     "output_type": "stream",
     "text": [
      "[5.54193389 1.25713095 3.07479606]\n"
     ]
    }
   ],
   "source": [
    "opt = qml.GradientDescentOptimizer(stepsize=0.8)\n",
    "np.random.seed(0)  # for reproducibility\n",
    "theta = np.random.normal(0, np.pi, len(singles) + len(doubles), requires_grad=True)\n",
    "print(theta)"
   ]
  },
  {
   "cell_type": "code",
   "execution_count": 14,
   "id": "1f917d3c",
   "metadata": {},
   "outputs": [
    {
     "name": "stdout",
     "output_type": "stream",
     "text": [
      "Step = 0, Energy = -0.09929557 Ha, S = 0.1014\n",
      "Step = 4, Energy = -0.87153518 Ha, S = 0.0982\n",
      "Step = 8, Energy = -1.11692841 Ha, S = 0.0087\n",
      "Step = 12, Energy = -1.13529755 Ha, S = 0.0004\n",
      "Step = 16, Energy = -1.13614888 Ha, S = 0.0000\n",
      "Step = 20, Energy = -1.13618734 Ha, S = 0.0000\n",
      "\n",
      "Final value of the ground-state energy = -1.13618832 Ha\n",
      "\n",
      "Optimal value of the circuit parameters = [3.14350662 3.14087516 2.93185886]\n"
     ]
    }
   ],
   "source": [
    "max_iterations = 100\n",
    "conv_tol = 1e-06\n",
    "\n",
    "for n in range(max_iterations):\n",
    "\n",
    "    theta, prev_energy = opt.step_and_cost(cost_fn, theta)\n",
    "\n",
    "    energy = cost_fn(theta)\n",
    "    spin = total_spin(theta)\n",
    "\n",
    "    conv = np.abs(energy - prev_energy)\n",
    "\n",
    "    if n % 4 == 0:\n",
    "        print(f\"Step = {n}, Energy = {energy:.8f} Ha, S = {spin:.4f}\")\n",
    "\n",
    "    if conv <= conv_tol:\n",
    "        break\n",
    "\n",
    "print(\"\\n\" f\"Final value of the ground-state energy = {energy:.8f} Ha\")\n",
    "print(\"\\n\" f\"Optimal value of the circuit parameters = {theta}\")"
   ]
  },
  {
   "cell_type": "markdown",
   "id": "f0d9710e",
   "metadata": {},
   "source": [
    "## Calculate single excited state (S1)"
   ]
  },
  {
   "cell_type": "code",
   "execution_count": 15,
   "id": "e6252125",
   "metadata": {},
   "outputs": [
    {
     "name": "stdout",
     "output_type": "stream",
     "text": [
      "[[1, 2]]\n",
      "[]\n"
     ]
    }
   ],
   "source": [
    "singles, doubles = qml.qchem.excitations(electrons, qubits, delta_sz=1)\n",
    "print(singles)\n",
    "print(doubles)"
   ]
  },
  {
   "cell_type": "code",
   "execution_count": 16,
   "id": "772659f8",
   "metadata": {},
   "outputs": [],
   "source": [
    "def circuit(params, wires):\n",
    "    qml.AllSinglesDoubles(params, wires, np.flip(hf), singles, doubles)"
   ]
  },
  {
   "cell_type": "code",
   "execution_count": 17,
   "id": "ac23a21c",
   "metadata": {},
   "outputs": [],
   "source": [
    "@qml.qnode(dev, interface=\"autograd\")\n",
    "def cost_fn(params):\n",
    "    circuit(params, wires=range(qubits))\n",
    "    return qml.expval(H)\n",
    "\n",
    "\n",
    "@qml.qnode(dev, interface=\"autograd\")\n",
    "def S2_exp_value(params):\n",
    "    circuit(params, wires=range(qubits))\n",
    "    return qml.expval(S2)"
   ]
  },
  {
   "cell_type": "code",
   "execution_count": 18,
   "id": "1c4fcb6d",
   "metadata": {},
   "outputs": [
    {
     "name": "stdout",
     "output_type": "stream",
     "text": [
      "Step = 0, Energy = 0.31463319 Ha, S = 0.3539\n",
      "Step = 4, Energy = -0.38517129 Ha, S = 0.9391\n",
      "Step = 8, Energy = -0.47698618 Ha, S = 0.9991\n",
      "Step = 12, Energy = -0.47842743 Ha, S = 1.0000\n",
      "Step = 16, Energy = -0.47844667 Ha, S = 1.0000\n",
      "\n",
      "Final value of the energy = -0.47844667 Ha\n",
      "\n",
      "Optimal value of the circuit parameters = [3.14259046]\n"
     ]
    }
   ],
   "source": [
    "np.random.seed(0)\n",
    "theta = np.random.normal(0, np.pi, len(singles) + len(doubles), requires_grad=True)\n",
    "\n",
    "max_iterations = 100\n",
    "conv_tol = 1e-06\n",
    "\n",
    "for n in range(max_iterations):\n",
    "\n",
    "    theta, prev_energy = opt.step_and_cost(cost_fn, theta)\n",
    "\n",
    "    energy = cost_fn(theta)\n",
    "    spin = total_spin(theta)\n",
    "\n",
    "    conv = np.abs(energy - prev_energy)\n",
    "\n",
    "    if n % 4 == 0:\n",
    "        print(f\"Step = {n}, Energy = {energy:.8f} Ha, S = {spin:.4f}\")\n",
    "\n",
    "    if conv <= conv_tol:\n",
    "        break\n",
    "\n",
    "print(\"\\n\" f\"Final value of the energy = {energy:.8f} Ha\")\n",
    "print(\"\\n\" f\"Optimal value of the circuit parameters = {theta}\")"
   ]
  },
  {
   "cell_type": "markdown",
   "id": "a3667a05",
   "metadata": {},
   "source": [
    "## Plausibilization"
   ]
  },
  {
   "cell_type": "markdown",
   "id": "0b943618",
   "metadata": {},
   "source": [
    "According to: https://socratic.org/questions/how-can-i-calculate-the-excited-state-energy-level\n",
    "We can calculate the excited state energy for hydrogen-like molecules (H, He+, Li+,..) by:\n",
    "E_n = -Z^2*(13.61 eV)/n^ 2, with Z being the atomic number and n being the quantum level."
   ]
  },
  {
   "cell_type": "markdown",
   "id": "22462a08",
   "metadata": {},
   "source": [
    "Ground state: −54.44 eV = -2.0006315033 Ha\n",
    "First Excited state: −13.61 eV = -0.5001578758 Ha\n",
    "-> spectral_gap = -40.83 = -1.5004736275 Ha"
   ]
  },
  {
   "cell_type": "code",
   "execution_count": 19,
   "id": "ecfb6ec6",
   "metadata": {},
   "outputs": [
    {
     "name": "stdout",
     "output_type": "stream",
     "text": [
      "[[0, 2], [1, 3]]\n",
      "[[0, 1, 2, 3]]\n"
     ]
    }
   ],
   "source": [
    "singles1, doubles1 = qml.qchem.excitations(electrons, qubits, delta_sz=0)\n",
    "print(singles1)\n",
    "print(doubles1)"
   ]
  },
  {
   "cell_type": "code",
   "execution_count": 20,
   "id": "6ae60eed",
   "metadata": {},
   "outputs": [],
   "source": [
    "def circuit1(params, wires):\n",
    "    qml.AllSinglesDoubles(params, wires, hf, singles1, doubles1)"
   ]
  },
  {
   "cell_type": "code",
   "execution_count": 21,
   "id": "cb04af25",
   "metadata": {},
   "outputs": [
    {
     "name": "stdout",
     "output_type": "stream",
     "text": [
      "[[1, 2]]\n",
      "[]\n"
     ]
    }
   ],
   "source": [
    "singles2, doubles2 = qml.qchem.excitations(electrons, qubits, delta_sz=1)\n",
    "print(singles2)\n",
    "print(doubles2)"
   ]
  },
  {
   "cell_type": "code",
   "execution_count": 22,
   "id": "098abae2",
   "metadata": {},
   "outputs": [],
   "source": [
    "def circuit(params, wires):\n",
    "    qml.AllSinglesDoubles(params, wires, np.flip(hf), singles2, doubles2)"
   ]
  },
  {
   "cell_type": "code",
   "execution_count": 33,
   "id": "038bffa2",
   "metadata": {},
   "outputs": [
    {
     "name": "stdout",
     "output_type": "stream",
     "text": [
      "0: ─╭AllSinglesDoubles(M0)─┤ ╭<𝓗>\n",
      "1: ─├AllSinglesDoubles(M0)─┤ ├<𝓗>\n",
      "2: ─├AllSinglesDoubles(M0)─┤ ├<𝓗>\n",
      "3: ─╰AllSinglesDoubles(M0)─┤ ╰<𝓗>\n",
      "\n",
      "M0 = \n",
      "[3.14259046]\n"
     ]
    }
   ],
   "source": [
    "print(qml.draw(cost_fn, expansion_strategy=dev)(theta))"
   ]
  },
  {
   "cell_type": "code",
   "execution_count": 34,
   "id": "48f37964",
   "metadata": {},
   "outputs": [
    {
     "data": {
      "text/plain": [
       "{'resources': Resources(num_wires=4, num_gates=1, gate_types=defaultdict(<class 'int'>, {'AllSinglesDoubles': 1}), gate_sizes=defaultdict(<class 'int'>, {4: 1}), depth=1, shots=Shots(total_shots=None, shot_vector=())),\n",
       " 'num_observables': 1,\n",
       " 'num_diagonalizing_gates': 0,\n",
       " 'num_trainable_params': 1,\n",
       " 'num_device_wires': 4,\n",
       " 'device_name': 'default.qubit',\n",
       " 'expansion_strategy': 'gradient',\n",
       " 'gradient_options': {},\n",
       " 'interface': 'autograd',\n",
       " 'diff_method': 'best',\n",
       " 'gradient_fn': 'backprop'}"
      ]
     },
     "execution_count": 34,
     "metadata": {},
     "output_type": "execute_result"
    }
   ],
   "source": [
    "specs_func = qml.specs(cost_fn)\n",
    "specs_func(theta)"
   ]
  },
  {
   "cell_type": "code",
   "execution_count": 36,
   "id": "f7e082d8",
   "metadata": {},
   "outputs": [],
   "source": [
    "c = qml.transforms.compile(cost_fn)"
   ]
  },
  {
   "cell_type": "code",
   "execution_count": 37,
   "id": "a4ef7325",
   "metadata": {},
   "outputs": [
    {
     "name": "stdout",
     "output_type": "stream",
     "text": [
      "0: ─╭|Ψ⟩──────────┤ ╭<𝓗>\n",
      "1: ─├|Ψ⟩─╭G(3.14)─┤ ├<𝓗>\n",
      "2: ─├|Ψ⟩─╰G(3.14)─┤ ├<𝓗>\n",
      "3: ─╰|Ψ⟩──────────┤ ╰<𝓗>\n"
     ]
    }
   ],
   "source": [
    "print(qml.draw(c, expansion_strategy=dev)(theta))"
   ]
  },
  {
   "cell_type": "code",
   "execution_count": 39,
   "id": "81fe65ad",
   "metadata": {},
   "outputs": [],
   "source": [
    "clifford_c = qml.clifford_t_decomposition(cost_fn)"
   ]
  },
  {
   "cell_type": "code",
   "execution_count": 45,
   "id": "98d1a855",
   "metadata": {},
   "outputs": [],
   "source": [
    "def circuit_decomp(params, wires):\n",
    "    qml.AllSinglesDoubles.compute_decomposition(params, wires, np.flip(hf), singles2, doubles2)"
   ]
  },
  {
   "cell_type": "code",
   "execution_count": 48,
   "id": "423e8d2e",
   "metadata": {},
   "outputs": [
    {
     "name": "stdout",
     "output_type": "stream",
     "text": [
      "0: ─╭|Ψ⟩──────────┤ ╭<𝓗>\n",
      "1: ─├|Ψ⟩─╭G(3.14)─┤ ├<𝓗>\n",
      "2: ─├|Ψ⟩─╰G(3.14)─┤ ├<𝓗>\n",
      "3: ─╰|Ψ⟩──────────┤ ╰<𝓗>\n"
     ]
    }
   ],
   "source": [
    "@qml.qnode(dev, interface=\"autograd\")\n",
    "def cost_fn_decomp(params):\n",
    "    circuit_decomp(params, wires=range(qubits))\n",
    "    return qml.expval(H)\n",
    "print(qml.draw(cost_fn_decomp)(theta))"
   ]
  },
  {
   "cell_type": "code",
   "execution_count": null,
   "id": "8ed9edef",
   "metadata": {},
   "outputs": [],
   "source": []
  }
 ],
 "metadata": {
  "kernelspec": {
   "display_name": "Python 3 (ipykernel)",
   "language": "python",
   "name": "python3"
  },
  "language_info": {
   "codemirror_mode": {
    "name": "ipython",
    "version": 3
   },
   "file_extension": ".py",
   "mimetype": "text/x-python",
   "name": "python",
   "nbconvert_exporter": "python",
   "pygments_lexer": "ipython3",
   "version": "3.10.12"
  }
 },
 "nbformat": 4,
 "nbformat_minor": 5
}
